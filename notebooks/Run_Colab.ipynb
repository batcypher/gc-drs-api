{
  "nbformat": 4,
  "nbformat_minor": 0,
  "metadata": {
    "colab": {
      "name": "Run_Colab.ipynb",
      "provenance": [],
      "collapsed_sections": []
    },
    "kernelspec": {
      "name": "python3",
      "display_name": "Python 3"
    }
  },
  "cells": [
    {
      "cell_type": "code",
      "metadata": {
        "colab": {
          "base_uri": "https://localhost:8080/"
        },
        "id": "D9hYKKHP8KyA",
        "outputId": "89e8f3a3-f69f-4cf9-eb77-c06b59941c91"
      },
      "source": [
        "!git clone https://github.com/farazkhanfk7/grammerly-drs-api.git"
      ],
      "execution_count": 1,
      "outputs": [
        {
          "output_type": "stream",
          "text": [
            "Cloning into 'grammerly-drs-api'...\n",
            "remote: Enumerating objects: 66, done.\u001b[K\n",
            "remote: Counting objects: 100% (66/66), done.\u001b[K\n",
            "remote: Compressing objects: 100% (51/51), done.\u001b[K\n",
            "remote: Total 66 (delta 13), reused 54 (delta 8), pack-reused 0\u001b[K\n",
            "Unpacking objects: 100% (66/66), done.\n"
          ],
          "name": "stdout"
        }
      ]
    },
    {
      "cell_type": "code",
      "metadata": {
        "colab": {
          "base_uri": "https://localhost:8080/"
        },
        "id": "GyqoTSmQ8S7v",
        "outputId": "101e580c-f9ed-4cd6-c19e-2d53a0678dda"
      },
      "source": [
        "!ls"
      ],
      "execution_count": 2,
      "outputs": [
        {
          "output_type": "stream",
          "text": [
            "grammerly-drs-api  sample_data\n"
          ],
          "name": "stdout"
        }
      ]
    },
    {
      "cell_type": "code",
      "metadata": {
        "colab": {
          "base_uri": "https://localhost:8080/"
        },
        "id": "vz1nNXWw8YZ4",
        "outputId": "105b385b-bf54-4b4d-d6b9-dd1c07869012"
      },
      "source": [
        "cd grammerly-drs-api/"
      ],
      "execution_count": 3,
      "outputs": [
        {
          "output_type": "stream",
          "text": [
            "/content/grammerly-drs-api\n"
          ],
          "name": "stdout"
        }
      ]
    },
    {
      "cell_type": "code",
      "metadata": {
        "colab": {
          "base_uri": "https://localhost:8080/"
        },
        "id": "aeaBpWfb8b72",
        "outputId": "b8ecc5d6-61b7-423c-8106-3c60aa18ca4f"
      },
      "source": [
        "ls"
      ],
      "execution_count": 4,
      "outputs": [
        {
          "output_type": "stream",
          "text": [
            "\u001b[0m\u001b[01;34mapi\u001b[0m/                Dockerfile     \u001b[01;32mmanage.py\u001b[0m*  README.md\n",
            "db.sqlite3          \u001b[01;34mgcapi\u001b[0m/         \u001b[01;34mmodels\u001b[0m/     requirements.txt\n",
            "docker-compose.yml  load_model.sh  \u001b[01;34mnotebooks\u001b[0m/\n"
          ],
          "name": "stdout"
        }
      ]
    },
    {
      "cell_type": "code",
      "metadata": {
        "colab": {
          "base_uri": "https://localhost:8080/"
        },
        "id": "1t_7apyn8dRU",
        "outputId": "bd5b2321-b199-43ff-8195-936f1e020d40"
      },
      "source": [
        "!git checkout develop"
      ],
      "execution_count": 5,
      "outputs": [
        {
          "output_type": "stream",
          "text": [
            "Branch 'develop' set up to track remote branch 'develop' from 'origin'.\n",
            "Switched to a new branch 'develop'\n"
          ],
          "name": "stdout"
        }
      ]
    },
    {
      "cell_type": "code",
      "metadata": {
        "colab": {
          "base_uri": "https://localhost:8080/"
        },
        "id": "6rkrxRtk8hbE",
        "outputId": "56fe0e68-9fea-43b9-9f32-afb31f6e7a90"
      },
      "source": [
        "!sh load_model.sh"
      ],
      "execution_count": 6,
      "outputs": [
        {
          "output_type": "stream",
          "text": [
            "Downloading Grammer BERT Models:\n",
            "  % Total    % Received % Xferd  Average Speed   Time    Time     Time  Current\n",
            "                                 Dload  Upload   Total   Spent    Left  Speed\n",
            "100   408    0   408    0     0   5368      0 --:--:-- --:--:-- --:--:--  5368\n",
            "  0     0    0     0    0     0      0      0 --:--:-- --:--:-- --:--:--     0\n",
            "  0     0    0     0    0     0      0      0 --:--:-- --:--:-- --:--:--     0\n",
            "100  417M    0  417M    0     0  71.3M      0 --:--:--  0:00:05 --:--:-- 86.7M\n",
            "Downloading Sentiment BERT Models:\n",
            "  % Total    % Received % Xferd  Average Speed   Time    Time     Time  Current\n",
            "                                 Dload  Upload   Total   Spent    Left  Speed\n",
            "100   408    0   408    0     0   3114      0 --:--:-- --:--:-- --:--:--  3138\n",
            "  0     0    0     0    0     0      0      0 --:--:-- --:--:-- --:--:--     0\n",
            "  0     0    0     0    0     0      0      0 --:--:-- --:--:-- --:--:--     0\n",
            "100  417M    0  417M    0     0  75.9M      0 --:--:--  0:00:05 --:--:-- 91.6M\n",
            "Downloading TextGeneration GPT2 Models:\n",
            "  % Total    % Received % Xferd  Average Speed   Time    Time     Time  Current\n",
            "                                 Dload  Upload   Total   Spent    Left  Speed\n",
            "100   408    0   408    0     0   3344      0 --:--:-- --:--:-- --:--:--  3317\n",
            "  0     0    0     0    0     0      0      0 --:--:-- --:--:-- --:--:--     0\n",
            "  0     0    0     0    0     0      0      0 --:--:-- --:--:-- --:--:--     0\n",
            "100  522M    0  522M    0     0   164M      0 --:--:--  0:00:03 --:--:--  203M\n",
            "/content/grammerly-drs-api\n",
            "api\t\t    Dockerfile\t   manage.py  README.md\n",
            "db.sqlite3\t    gcapi\t   models     requirements.txt\n",
            "docker-compose.yml  load_model.sh  notebooks\n",
            "Model downloaded\n",
            "Please run Docker Container or start server\n"
          ],
          "name": "stdout"
        }
      ]
    },
    {
      "cell_type": "code",
      "metadata": {
        "colab": {
          "base_uri": "https://localhost:8080/"
        },
        "id": "ViJmLCcd8k6x",
        "outputId": "518658f4-aabb-4e3b-de9c-59c8af5f2c71"
      },
      "source": [
        "!ls"
      ],
      "execution_count": 7,
      "outputs": [
        {
          "output_type": "stream",
          "text": [
            "api\t\t    Dockerfile\t   manage.py  README.md\n",
            "db.sqlite3\t    gcapi\t   models     requirements.txt\n",
            "docker-compose.yml  load_model.sh  notebooks\n"
          ],
          "name": "stdout"
        }
      ]
    },
    {
      "cell_type": "code",
      "metadata": {
        "colab": {
          "base_uri": "https://localhost:8080/",
          "height": 1000
        },
        "id": "TOrJKeF78qfA",
        "outputId": "f014a10a-3be2-4b9b-b981-74e09a9b0a58"
      },
      "source": [
        "!pip install -r requirements.txt"
      ],
      "execution_count": 8,
      "outputs": [
        {
          "output_type": "stream",
          "text": [
            "Requirement already satisfied: asgiref==3.3.1 in /usr/local/lib/python3.6/dist-packages (from -r requirements.txt (line 1)) (3.3.1)\n",
            "Collecting boto3==1.16.56\n",
            "\u001b[?25l  Downloading https://files.pythonhosted.org/packages/13/4c/e81c2f215e93a6cb5efdaa991669e3ef1ec6ecfe4407c582c3dfc7d2c281/boto3-1.16.56-py2.py3-none-any.whl (130kB)\n",
            "\u001b[K     |████████████████████████████████| 133kB 4.2MB/s \n",
            "\u001b[?25hCollecting botocore==1.19.56\n",
            "\u001b[?25l  Downloading https://files.pythonhosted.org/packages/d7/72/c904c62945127699aac8aa5bbd508ec851d55da46aaf1072c061de3eb6fa/botocore-1.19.56-py2.py3-none-any.whl (7.2MB)\n",
            "\u001b[K     |████████████████████████████████| 7.2MB 16.0MB/s \n",
            "\u001b[?25hRequirement already satisfied: certifi==2020.12.5 in /usr/local/lib/python3.6/dist-packages (from -r requirements.txt (line 4)) (2020.12.5)\n",
            "Collecting chardet==4.0.0\n",
            "\u001b[?25l  Downloading https://files.pythonhosted.org/packages/19/c7/fa589626997dd07bd87d9269342ccb74b1720384a4d739a1872bd84fbe68/chardet-4.0.0-py2.py3-none-any.whl (178kB)\n",
            "\u001b[K     |████████████████████████████████| 184kB 34.2MB/s \n",
            "\u001b[?25hRequirement already satisfied: click==7.1.2 in /usr/local/lib/python3.6/dist-packages (from -r requirements.txt (line 6)) (7.1.2)\n",
            "Requirement already satisfied: dataclasses in /usr/local/lib/python3.6/dist-packages (from -r requirements.txt (line 7)) (0.8)\n",
            "Requirement already satisfied: Django==3.1.5 in /usr/local/lib/python3.6/dist-packages (from -r requirements.txt (line 8)) (3.1.5)\n",
            "Collecting django-filter==2.4.0\n",
            "\u001b[?25l  Downloading https://files.pythonhosted.org/packages/71/2b/b2fe483c3095b6222725dd05f9ad9e6ed6cb7347c154fdbd80238d36f1a8/django_filter-2.4.0-py3-none-any.whl (73kB)\n",
            "\u001b[K     |████████████████████████████████| 81kB 9.1MB/s \n",
            "\u001b[?25hCollecting djangorestframework==3.12.2\n",
            "\u001b[?25l  Downloading https://files.pythonhosted.org/packages/8e/42/4cd19938181a912150e55835109b1933be26b776f3d4fb186491968dc41d/djangorestframework-3.12.2-py3-none-any.whl (957kB)\n",
            "\u001b[K     |████████████████████████████████| 962kB 49.9MB/s \n",
            "\u001b[?25hRequirement already satisfied: filelock==3.0.12 in /usr/local/lib/python3.6/dist-packages (from -r requirements.txt (line 11)) (3.0.12)\n",
            "Collecting freeze==3.0\n",
            "\u001b[?25l  Downloading https://files.pythonhosted.org/packages/1e/34/2542d6f2ed6c4ba3a7830040bb216afb9fcd485bffbf0f3b39ae273f6301/freeze-3.0.tar.gz (188kB)\n",
            "\u001b[K     |████████████████████████████████| 194kB 45.9MB/s \n",
            "\u001b[?25hRequirement already satisfied: idna==2.10 in /usr/local/lib/python3.6/dist-packages (from -r requirements.txt (line 13)) (2.10)\n",
            "Collecting importlib-metadata==3.4.0\n",
            "  Downloading https://files.pythonhosted.org/packages/f3/ed/da40116a204abb5c4dd1d929346d33e0d29cedb2cedd18ea98f0385dcd92/importlib_metadata-3.4.0-py3-none-any.whl\n",
            "Collecting jmespath==0.10.0\n",
            "  Downloading https://files.pythonhosted.org/packages/07/cb/5f001272b6faeb23c1c9e0acc04d48eaaf5c862c17709d20e3469c6e0139/jmespath-0.10.0-py2.py3-none-any.whl\n",
            "Requirement already satisfied: joblib==1.0.0 in /usr/local/lib/python3.6/dist-packages (from -r requirements.txt (line 16)) (1.0.0)\n",
            "Requirement already satisfied: Markdown==3.3.3 in /usr/local/lib/python3.6/dist-packages (from -r requirements.txt (line 17)) (3.3.3)\n",
            "Collecting nltk==3.5\n",
            "\u001b[?25l  Downloading https://files.pythonhosted.org/packages/92/75/ce35194d8e3022203cca0d2f896dbb88689f9b3fce8e9f9cff942913519d/nltk-3.5.zip (1.4MB)\n",
            "\u001b[K     |████████████████████████████████| 1.4MB 38.3MB/s \n",
            "\u001b[?25hRequirement already satisfied: numpy==1.19.5 in /usr/local/lib/python3.6/dist-packages (from -r requirements.txt (line 19)) (1.19.5)\n",
            "Requirement already satisfied: packaging==20.8 in /usr/local/lib/python3.6/dist-packages (from -r requirements.txt (line 20)) (20.8)\n",
            "Requirement already satisfied: pyparsing==2.4.7 in /usr/local/lib/python3.6/dist-packages (from -r requirements.txt (line 21)) (2.4.7)\n",
            "Requirement already satisfied: python-dateutil==2.8.1 in /usr/local/lib/python3.6/dist-packages (from -r requirements.txt (line 22)) (2.8.1)\n",
            "Collecting pytorch-transformers==1.2.0\n",
            "\u001b[?25l  Downloading https://files.pythonhosted.org/packages/a3/b7/d3d18008a67e0b968d1ab93ad444fc05699403fa662f634b2f2c318a508b/pytorch_transformers-1.2.0-py3-none-any.whl (176kB)\n",
            "\u001b[K     |████████████████████████████████| 184kB 45.7MB/s \n",
            "\u001b[?25hCollecting pytz==2020.5\n",
            "\u001b[?25l  Downloading https://files.pythonhosted.org/packages/89/06/2c2d3034b4d6bf22f2a4ae546d16925898658a33b4400cfb7e2c1e2871a3/pytz-2020.5-py2.py3-none-any.whl (510kB)\n",
            "\u001b[K     |████████████████████████████████| 512kB 46.4MB/s \n",
            "\u001b[?25hCollecting regex==2020.11.13\n",
            "\u001b[?25l  Downloading https://files.pythonhosted.org/packages/0d/8a/3ac62dadb767ace65a5b954265de4031a99b27148fe14b24771f5c2c2dca/regex-2020.11.13-cp36-cp36m-manylinux2014_x86_64.whl (723kB)\n",
            "\u001b[K     |████████████████████████████████| 727kB 45.6MB/s \n",
            "\u001b[?25hCollecting requests==2.25.1\n",
            "\u001b[?25l  Downloading https://files.pythonhosted.org/packages/29/c1/24814557f1d22c56d50280771a17307e6bf87b70727d975fd6b2ce6b014a/requests-2.25.1-py2.py3-none-any.whl (61kB)\n",
            "\u001b[K     |████████████████████████████████| 61kB 7.6MB/s \n",
            "\u001b[?25hCollecting s3transfer==0.3.4\n",
            "\u001b[?25l  Downloading https://files.pythonhosted.org/packages/ea/43/4b4a1b26eb03a429a4c37ca7fdf369d938bd60018fc194e94b8379b0c77c/s3transfer-0.3.4-py2.py3-none-any.whl (69kB)\n",
            "\u001b[K     |████████████████████████████████| 71kB 8.8MB/s \n",
            "\u001b[?25hCollecting sacremoses==0.0.43\n",
            "\u001b[?25l  Downloading https://files.pythonhosted.org/packages/7d/34/09d19aff26edcc8eb2a01bed8e98f13a1537005d31e95233fd48216eed10/sacremoses-0.0.43.tar.gz (883kB)\n",
            "\u001b[K     |████████████████████████████████| 890kB 33.1MB/s \n",
            "\u001b[?25hCollecting sentencepiece==0.1.95\n",
            "\u001b[?25l  Downloading https://files.pythonhosted.org/packages/14/67/e42bd1181472c95c8cda79305df848264f2a7f62740995a46945d9797b67/sentencepiece-0.1.95-cp36-cp36m-manylinux2014_x86_64.whl (1.2MB)\n",
            "\u001b[K     |████████████████████████████████| 1.2MB 39.7MB/s \n",
            "\u001b[?25hRequirement already satisfied: six==1.15.0 in /usr/local/lib/python3.6/dist-packages (from -r requirements.txt (line 30)) (1.15.0)\n",
            "Requirement already satisfied: sqlparse==0.4.1 in /usr/local/lib/python3.6/dist-packages (from -r requirements.txt (line 31)) (0.4.1)\n",
            "Requirement already satisfied: textblob==0.15.3 in /usr/local/lib/python3.6/dist-packages (from -r requirements.txt (line 32)) (0.15.3)\n",
            "Collecting tokenizers==0.9.4\n",
            "\u001b[?25l  Downloading https://files.pythonhosted.org/packages/0f/1c/e789a8b12e28be5bc1ce2156cf87cb522b379be9cadc7ad8091a4cc107c4/tokenizers-0.9.4-cp36-cp36m-manylinux2010_x86_64.whl (2.9MB)\n",
            "\u001b[K     |████████████████████████████████| 2.9MB 39.1MB/s \n",
            "\u001b[?25hCollecting torch==1.7.1\n",
            "\u001b[?25l  Downloading https://files.pythonhosted.org/packages/90/4f/acf48b3a18a8f9223c6616647f0a011a5713a985336088d7c76f3a211374/torch-1.7.1-cp36-cp36m-manylinux1_x86_64.whl (776.8MB)\n",
            "\u001b[K     |████████████████████████████████| 776.8MB 21kB/s \n",
            "\u001b[?25hCollecting tqdm==4.56.0\n",
            "\u001b[?25l  Downloading https://files.pythonhosted.org/packages/80/02/8f8880a4fd6625461833abcf679d4c12a44c76f9925f92bf212bb6cefaad/tqdm-4.56.0-py2.py3-none-any.whl (72kB)\n",
            "\u001b[K     |████████████████████████████████| 81kB 8.3MB/s \n",
            "\u001b[?25hCollecting transformers==4.2.1\n",
            "\u001b[?25l  Downloading https://files.pythonhosted.org/packages/cd/40/866cbfac4601e0f74c7303d533a9c5d4a53858bd402e08e3e294dd271f25/transformers-4.2.1-py3-none-any.whl (1.8MB)\n",
            "\u001b[K     |████████████████████████████████| 1.8MB 43.1MB/s \n",
            "\u001b[?25hRequirement already satisfied: typing-extensions==3.7.4.3 in /usr/local/lib/python3.6/dist-packages (from -r requirements.txt (line 37)) (3.7.4.3)\n",
            "Collecting urllib3==1.26.2\n",
            "\u001b[?25l  Downloading https://files.pythonhosted.org/packages/f5/71/45d36a8df68f3ebb098d6861b2c017f3d094538c0fb98fa61d4dc43e69b9/urllib3-1.26.2-py2.py3-none-any.whl (136kB)\n",
            "\u001b[K     |████████████████████████████████| 143kB 48.8MB/s \n",
            "\u001b[?25hRequirement already satisfied: zipp==3.4.0 in /usr/local/lib/python3.6/dist-packages (from -r requirements.txt (line 39)) (3.4.0)\n",
            "Building wheels for collected packages: freeze, nltk, sacremoses\n",
            "  Building wheel for freeze (setup.py) ... \u001b[?25l\u001b[?25hdone\n",
            "  Created wheel for freeze: filename=freeze-3.0-cp36-cp36m-linux_x86_64.whl size=611610 sha256=17d96fee522a5e8cbb63cb0ca896e3c0d919798a709d2c64fa8f9a90602d5c0b\n",
            "  Stored in directory: /root/.cache/pip/wheels/75/11/f4/fd5bb3346ef71dcd8e53249cf23cd77b01cb00c5a6780f09ed\n",
            "  Building wheel for nltk (setup.py) ... \u001b[?25l\u001b[?25hdone\n",
            "  Created wheel for nltk: filename=nltk-3.5-cp36-none-any.whl size=1434679 sha256=9f1c26e609b19d2cc309e92eb97ad12709e3deb0e018b0964a9b9dde01615396\n",
            "  Stored in directory: /root/.cache/pip/wheels/ae/8c/3f/b1fe0ba04555b08b57ab52ab7f86023639a526d8bc8d384306\n",
            "  Building wheel for sacremoses (setup.py) ... \u001b[?25l\u001b[?25hdone\n",
            "  Created wheel for sacremoses: filename=sacremoses-0.0.43-cp36-none-any.whl size=893261 sha256=ff8c880010c718e63233eb55e9da3e40d030e8307dadf42274888d69ee6ab09a\n",
            "  Stored in directory: /root/.cache/pip/wheels/29/3c/fd/7ce5c3f0666dab31a50123635e6fb5e19ceb42ce38d4e58f45\n",
            "Successfully built freeze nltk sacremoses\n",
            "\u001b[31mERROR: torchvision 0.8.1+cu101 has requirement torch==1.7.0, but you'll have torch 1.7.1 which is incompatible.\u001b[0m\n",
            "\u001b[31mERROR: google-colab 1.0.0 has requirement requests~=2.23.0, but you'll have requests 2.25.1 which is incompatible.\u001b[0m\n",
            "\u001b[31mERROR: datascience 0.10.6 has requirement folium==0.2.1, but you'll have folium 0.8.3 which is incompatible.\u001b[0m\n",
            "\u001b[31mERROR: convertdate 2.2.0 has requirement pytz<2020,>=2014.10, but you'll have pytz 2020.5 which is incompatible.\u001b[0m\n",
            "Installing collected packages: urllib3, jmespath, botocore, s3transfer, boto3, chardet, django-filter, djangorestframework, freeze, importlib-metadata, regex, tqdm, nltk, requests, sacremoses, sentencepiece, torch, pytorch-transformers, pytz, tokenizers, transformers\n",
            "  Found existing installation: urllib3 1.24.3\n",
            "    Uninstalling urllib3-1.24.3:\n",
            "      Successfully uninstalled urllib3-1.24.3\n",
            "  Found existing installation: chardet 3.0.4\n",
            "    Uninstalling chardet-3.0.4:\n",
            "      Successfully uninstalled chardet-3.0.4\n",
            "  Found existing installation: importlib-metadata 3.3.0\n",
            "    Uninstalling importlib-metadata-3.3.0:\n",
            "      Successfully uninstalled importlib-metadata-3.3.0\n",
            "  Found existing installation: regex 2019.12.20\n",
            "    Uninstalling regex-2019.12.20:\n",
            "      Successfully uninstalled regex-2019.12.20\n",
            "  Found existing installation: tqdm 4.41.1\n",
            "    Uninstalling tqdm-4.41.1:\n",
            "      Successfully uninstalled tqdm-4.41.1\n",
            "  Found existing installation: nltk 3.2.5\n",
            "    Uninstalling nltk-3.2.5:\n",
            "      Successfully uninstalled nltk-3.2.5\n",
            "  Found existing installation: requests 2.23.0\n",
            "    Uninstalling requests-2.23.0:\n",
            "      Successfully uninstalled requests-2.23.0\n",
            "  Found existing installation: torch 1.7.0+cu101\n",
            "    Uninstalling torch-1.7.0+cu101:\n",
            "      Successfully uninstalled torch-1.7.0+cu101\n",
            "  Found existing installation: pytz 2018.9\n",
            "    Uninstalling pytz-2018.9:\n",
            "      Successfully uninstalled pytz-2018.9\n",
            "Successfully installed boto3-1.16.56 botocore-1.19.56 chardet-4.0.0 django-filter-2.4.0 djangorestframework-3.12.2 freeze-3.0 importlib-metadata-3.4.0 jmespath-0.10.0 nltk-3.5 pytorch-transformers-1.2.0 pytz-2020.5 regex-2020.11.13 requests-2.25.1 s3transfer-0.3.4 sacremoses-0.0.43 sentencepiece-0.1.95 tokenizers-0.9.4 torch-1.7.1 tqdm-4.56.0 transformers-4.2.1 urllib3-1.26.2\n"
          ],
          "name": "stdout"
        },
        {
          "output_type": "display_data",
          "data": {
            "application/vnd.colab-display-data+json": {
              "pip_warning": {
                "packages": [
                  "pytz"
                ]
              }
            }
          },
          "metadata": {
            "tags": []
          }
        }
      ]
    },
    {
      "cell_type": "code",
      "metadata": {
        "colab": {
          "base_uri": "https://localhost:8080/"
        },
        "id": "OWZMb8U48t2-",
        "outputId": "3a5db773-765e-4465-a10e-291896ef2fe9"
      },
      "source": [
        "!ls"
      ],
      "execution_count": 1,
      "outputs": [
        {
          "output_type": "stream",
          "text": [
            "grammerly-drs-api  sample_data\n"
          ],
          "name": "stdout"
        }
      ]
    },
    {
      "cell_type": "code",
      "metadata": {
        "colab": {
          "base_uri": "https://localhost:8080/"
        },
        "id": "GI-FxHWz9cDg",
        "outputId": "b1f824ae-902b-4a98-af4f-e2a4e8ad3395"
      },
      "source": [
        "cd grammerly-drs-api/"
      ],
      "execution_count": 2,
      "outputs": [
        {
          "output_type": "stream",
          "text": [
            "/content/grammerly-drs-api\n"
          ],
          "name": "stdout"
        }
      ]
    },
    {
      "cell_type": "code",
      "metadata": {
        "colab": {
          "base_uri": "https://localhost:8080/"
        },
        "id": "voOPAJ-V-WJs",
        "outputId": "598497f5-0f85-4cd3-8114-042e39c305a6"
      },
      "source": [
        "!ls"
      ],
      "execution_count": 10,
      "outputs": [
        {
          "output_type": "stream",
          "text": [
            "api\t\t    load_model.sh\t\t  notebooks\n",
            "db.sqlite3\t    manage.py\t\t\t  README.md\n",
            "docker-compose.yml  models\t\t\t  requirements.txt\n",
            "Dockerfile\t    ngrok\n",
            "gcapi\t\t    ngrok-stable-linux-amd64.zip\n"
          ],
          "name": "stdout"
        }
      ]
    },
    {
      "cell_type": "code",
      "metadata": {
        "colab": {
          "base_uri": "https://localhost:8080/"
        },
        "id": "7lQ2JVeK-dSL",
        "outputId": "d8e337f6-235b-4f39-de0c-93bd10d01789"
      },
      "source": [
        "!pip install pyngrok --quiet\n",
        "from pyngrok import ngrok\n",
        "\n",
        "# Terminate open tunnels if exist\n",
        "ngrok.kill()\n",
        "\n",
        "# Setting the authtoken (optional)\n",
        "# Get your authtoken from https://dashboard.ngrok.com/auth\n",
        "NGROK_AUTH_TOKEN = \"\"\n",
        "ngrok.set_auth_token(NGROK_AUTH_TOKEN)\n",
        "\n",
        "# Open an HTTPs tunnel on port 5000 for http://localhost:5000\n",
        "public_url = ngrok.connect(port=\"8000\", proto=\"http\", options={\"bind_tls\": True})\n",
        "print(\"Tracking URL:\", public_url)"
      ],
      "execution_count": 23,
      "outputs": [
        {
          "output_type": "stream",
          "text": [
            "Tracking URL: NgrokTunnel: \"http://6534e63c4cca.ngrok.io\" -> \"http://localhost:80\"\n"
          ],
          "name": "stdout"
        }
      ]
    },
    {
      "cell_type": "code",
      "metadata": {
        "colab": {
          "base_uri": "https://localhost:8080/"
        },
        "id": "rDOmX039_Qxu",
        "outputId": "4ed27881-3b72-430f-9632-2d22ded75778"
      },
      "source": [
        "!python manage.py runserver 127.0.0.1:80"
      ],
      "execution_count": 24,
      "outputs": [
        {
          "output_type": "stream",
          "text": [
            "Watching for file changes with StatReloader\n",
            "Performing system checks...\n",
            "\n",
            "/usr/local/lib/python3.6/dist-packages/psycopg2/__init__.py:144: UserWarning: The psycopg2 wheel package will be renamed from release 2.8; in order to keep installing from binary please use \"pip install psycopg2-binary\" instead. For details see: <http://initd.org/psycopg/docs/install.html#binary-install-from-pypi>.\n",
            "  \"\"\")\n",
            "System check identified no issues (0 silenced).\n",
            "January 18, 2021 - 15:05:28\n",
            "Django version 3.1.5, using settings 'gcapi.settings'\n",
            "Starting development server at http://127.0.0.1:80/\n",
            "Quit the server with CONTROL-C.\n",
            "Not Found: /\n",
            "[18/Jan/2021 15:05:31] \u001b[33m\"GET / HTTP/1.1\" 404 2142\u001b[0m\n",
            "Not Found: /favicon.ico\n",
            "[18/Jan/2021 15:05:31] \u001b[33m\"GET /favicon.ico HTTP/1.1\" 404 2193\u001b[0m\n",
            "[18/Jan/2021 15:05:39] \u001b[m\"GET /gcapi/ HTTP/1.1\" 200 9762\u001b[0m\n",
            "[18/Jan/2021 15:05:39] \u001b[m\"GET /static/rest_framework/css/bootstrap.min.css HTTP/1.1\" 200 121457\u001b[0m\n",
            "[18/Jan/2021 15:05:40] \u001b[m\"GET /static/rest_framework/css/default.css HTTP/1.1\" 200 1131\u001b[0m\n",
            "[18/Jan/2021 15:05:40] \u001b[m\"GET /static/rest_framework/js/jquery-3.5.1.min.js HTTP/1.1\" 200 89476\u001b[0m\n",
            "[18/Jan/2021 15:05:40] \u001b[m\"GET /static/rest_framework/js/ajax-form.js HTTP/1.1\" 200 3597\u001b[0m\n",
            "[18/Jan/2021 15:05:40] \u001b[m\"GET /static/rest_framework/js/bootstrap.min.js HTTP/1.1\" 200 39680\u001b[0m\n",
            "[18/Jan/2021 15:05:40] \u001b[m\"GET /static/rest_framework/js/csrf.js HTTP/1.1\" 200 1719\u001b[0m\n",
            "[18/Jan/2021 15:05:40] \u001b[m\"GET /static/rest_framework/js/prettify-min.js HTTP/1.1\" 200 13632\u001b[0m\n",
            "[18/Jan/2021 15:05:40] \u001b[m\"GET /static/rest_framework/js/default.js HTTP/1.1\" 200 1268\u001b[0m\n",
            "Truncation was not explicitly activated but `max_length` is provided a specific value, please use `truncation=True` to explicitly truncate examples to max length. Defaulting to 'longest_first' truncation strategy. If you encode pairs of sequences (GLUE-style) with the tokenizer you can select this strategy more precisely by providing a specific strategy to `truncation`.\n",
            "/usr/local/lib/python3.6/dist-packages/transformers/tokenization_utils_base.py:2143: FutureWarning: The `pad_to_max_length` argument is deprecated and will be removed in a future version, use `padding=True` or `padding='longest'` to pad to the longest sequence in the batch, or use `padding='max_length'` to pad to a max length. In this case, you can give a specific length with `max_length` (e.g. `max_length=45`) or leave max_length to None to pad to the maximal input size of the model (e.g. 512 for Bert).\n",
            "  FutureWarning,\n",
            "Truncation was not explicitly activated but `max_length` is provided a specific value, please use `truncation=True` to explicitly truncate examples to max length. Defaulting to 'longest_first' truncation strategy. If you encode pairs of sequences (GLUE-style) with the tokenizer you can select this strategy more precisely by providing a specific strategy to `truncation`.\n",
            "[18/Jan/2021 15:07:25] \u001b[m\"POST /gcapi/test/ HTTP/1.1\" 201 287\u001b[0m\n",
            "[18/Jan/2021 15:07:28] \u001b[m\"GET /gcapi/test/ HTTP/1.1\" 200 11380\u001b[0m\n",
            "[18/Jan/2021 15:07:28] \u001b[m\"GET /static/rest_framework/css/prettify.css HTTP/1.1\" 200 817\u001b[0m\n",
            "[18/Jan/2021 15:07:28] \u001b[m\"GET /static/rest_framework/css/bootstrap-tweaks.css HTTP/1.1\" 200 3385\u001b[0m\n",
            "[18/Jan/2021 15:07:29] \u001b[m\"GET /static/rest_framework/img/grid.png HTTP/1.1\" 200 1458\u001b[0m\n",
            "[18/Jan/2021 15:07:52] \u001b[m\"POST /gcapi/spell/ HTTP/1.1\" 201 44\u001b[0m\n",
            "[18/Jan/2021 15:08:13] \u001b[m\"POST /gcapi/generate/ HTTP/1.1\" 201 56\u001b[0m\n"
          ],
          "name": "stdout"
        }
      ]
    },
    {
      "cell_type": "code",
      "metadata": {
        "id": "AtlrBEjfASu4"
      },
      "source": [
        ""
      ],
      "execution_count": null,
      "outputs": []
    }
  ]
}